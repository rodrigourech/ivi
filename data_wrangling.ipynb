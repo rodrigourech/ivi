{
  "nbformat": 4,
  "nbformat_minor": 0,
  "metadata": {
    "colab": {
      "provenance": [],
      "authorship_tag": "ABX9TyPDMGRoaSK7Ut5x7hSuHMUp",
      "include_colab_link": true
    },
    "kernelspec": {
      "name": "python3",
      "display_name": "Python 3"
    },
    "language_info": {
      "name": "python"
    }
  },
  "cells": [
    {
      "cell_type": "markdown",
      "metadata": {
        "id": "view-in-github",
        "colab_type": "text"
      },
      "source": [
        "<a href=\"https://colab.research.google.com/github/rodrigourech/ivi/blob/main/data_wrangling.ipynb\" target=\"_parent\"><img src=\"https://colab.research.google.com/assets/colab-badge.svg\" alt=\"Open In Colab\"/></a>"
      ]
    },
    {
      "cell_type": "code",
      "execution_count": null,
      "metadata": {
        "colab": {
          "base_uri": "https://localhost:8080/"
        },
        "id": "tdPKZ3_a8upr",
        "outputId": "82d13f24-72e3-42d5-a242-7240494c24b4"
      },
      "outputs": [
        {
          "output_type": "stream",
          "name": "stdout",
          "text": [
            "Reading package lists... Done\n",
            "Building dependency tree... Done\n",
            "Reading state information... Done\n",
            "lftp is already the newest version (4.9.2-1build1).\n",
            "0 upgraded, 0 newly installed, 0 to remove and 35 not upgraded.\n",
            "cd ok, cwd=/QMstations/tas\n",
            "get: /content/CH2018_tas_CLMCOM-CCLM4_ECEARTH_EUR11_RCP45_QMstations_1981-2099_csv.zip: file already exists and xfer:clobber is unset\n",
            "get: /content/CH2018_tas_CLMCOM-CCLM4_ECEARTH_EUR11_RCP85_QMstations_1981-2099_csv.zip: file already exists and xfer:clobber is unset\n",
            "cd ok, cwd=/QMstations/pr\n"
          ]
        }
      ],
      "source": [
        "!apt-get install -y lftp\n",
        "!lftp -u seifert_FHNW,'iB7843(F' -e \"set ftp:ssl-force true; set ssl:verify-certificate no; \\\n",
        "cd QMstations/tas; \\\n",
        "get CH2018_tas_CLMCOM-CCLM4_ECEARTH_EUR11_RCP45_QMstations_1981-2099_csv.zip; \\\n",
        "get CH2018_tas_CLMCOM-CCLM4_ECEARTH_EUR11_RCP85_QMstations_1981-2099_csv.zip; \\\n",
        "cd ../pr; \\\n",
        "get CH2018_pr_CLMCOM-CCLM4_ECEARTH_EUR11_RCP45_QMstations_1981-2099_csv.zip; \\\n",
        "get CH2018_pr_CLMCOM-CCLM4_ECEARTH_EUR11_RCP85_QMstations_1981-2099_csv.zip; \\\n",
        "quit\" ftp://climftp.cscs.ch\n",
        "\n",
        "#  Unzip all files into ./data/\n",
        "!mkdir -p data\n",
        "!unzip -o CH2018_tas_CLMCOM-CCLM4_ECEARTH_EUR11_RCP45_QMstations_1981-2099_csv.zip -d ./data/\n",
        "!unzip -o CH2018_tas_CLMCOM-CCLM4_ECEARTH_EUR11_RCP85_QMstations_1981-2099_csv.zip -d ./data/\n",
        "!unzip -o CH2018_pr_CLMCOM-CCLM4_ECEARTH_EUR11_RCP45_QMstations_1981-2099_csv.zip -d ./data/\n",
        "!unzip -o CH2018_pr_CLMCOM-CCLM4_ECEARTH_EUR11_RCP85_QMstations_1981-2099_csv.zip -d ./data/\n",
        "\n",
        "#  Combine data by scenario and variable\n",
        "import pandas as pd\n",
        "import os\n",
        "\n",
        "# Selected stations (you can expand this list)\n",
        "stations = {\n",
        "    \"BER\": \"Bern\",\n",
        "    \"ZER\": \"Zürich\",\n",
        "    \"LUG\": \"Lugano\",\n",
        "    \"DAV\": \"Davos\",\n",
        "    \"BAS\": \"Basel\",\n",
        "    \"GEN\": \"Genf\",\n",
        "    \"SIO\": \"Sion\",\n",
        "    \"STG\": \"St. Gallen\",\n",
        "    \"PAY\": \"Payerne\"\n",
        "}\n",
        "\n",
        "scenarios = [\"RCP45\", \"RCP85\"]\n",
        "variables = [\"tas\", \"pr\"]\n",
        "model = \"CLMCOM-CCLM4_ECEARTH_EUR11\"\n",
        "\n",
        "# Dictionary to store 4 DataFrames\n",
        "df_dict = {\n",
        "    \"RCP45_tas\": [],\n",
        "    \"RCP85_tas\": [],\n",
        "    \"RCP45_pr\": [],\n",
        "    \"RCP85_pr\": []\n",
        "}\n",
        "\n",
        "# Loop over all combinations\n",
        "for var in variables:\n",
        "    for rcp in scenarios:\n",
        "        base = f\"CH2018_{var}_{model}_{rcp}_QMstations_1981-2099\"\n",
        "        key = f\"{rcp}_{var}\"\n",
        "        for code, name in stations.items():\n",
        "            file = f\"data/{base}_{code}.csv\"\n",
        "            if os.path.exists(file):\n",
        "                df = pd.read_csv(file, delimiter=\";\", skiprows=16, parse_dates=[\"DATE\"])\n",
        "                df.columns = [\"date\", \"value\"]\n",
        "                df[\"station\"] = name\n",
        "                df[\"station_code\"] = code\n",
        "                df[\"variable\"] = var\n",
        "                df[\"scenario\"] = rcp\n",
        "                df[\"model\"] = model\n",
        "                df_dict[key].append(df)\n",
        "\n",
        "\n",
        "# Export the 4 combined CSVs\n",
        "for key, df_list in df_dict.items():\n",
        "    if df_list:\n",
        "        combined = pd.concat(df_list, ignore_index=True)\n",
        "        combined.to_csv(f\"data/{key}.csv\", index=False, encoding=\"utf-8-sig\")\n",
        "        print(f\"Saved: data/{key}.csv\")"
      ]
    }
  ]
}