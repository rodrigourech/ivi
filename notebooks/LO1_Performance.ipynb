{
  "nbformat": 4,
  "nbformat_minor": 0,
  "metadata": {
    "colab": {
      "provenance": [],
      "authorship_tag": "ABX9TyNt80Pbl/CNk8RXSIRhZ5v0",
      "include_colab_link": true
    },
    "kernelspec": {
      "name": "python3",
      "display_name": "Python 3"
    },
    "language_info": {
      "name": "python"
    }
  },
  "cells": [
    {
      "cell_type": "markdown",
      "metadata": {
        "id": "view-in-github",
        "colab_type": "text"
      },
      "source": [
        "<a href=\"https://colab.research.google.com/github/rodrigourech/ivi/blob/main/notebooks/LO1_Performance.ipynb\" target=\"_parent\"><img src=\"https://colab.research.google.com/assets/colab-badge.svg\" alt=\"Open In Colab\"/></a>"
      ]
    },
    {
      "cell_type": "code",
      "source": [
        "import pandas as pd\n",
        "import matplotlib.pyplot as plt\n",
        "import plotly.express as px\n",
        "import time\n",
        "\n",
        "# URLs using correct case-sensitive filenames\n",
        "url_rcp45 = \"https://raw.githubusercontent.com/rodrigourech/ivi/main/data/RCP45_tas.csv\"\n",
        "url_rcp85 = \"https://raw.githubusercontent.com/rodrigourech/ivi/main/data/RCP85_tas.csv\"\n",
        "\n",
        "# Load data\n",
        "df_rcp45 = pd.read_csv(url_rcp45, parse_dates=[\"date\"], encoding=\"utf-8-sig\")\n",
        "df_rcp85 = pd.read_csv(url_rcp85, parse_dates=[\"date\"], encoding=\"utf-8-sig\")\n",
        "\n",
        "# Sample data\n",
        "df_rcp45_medium = df_rcp45.sample(n=50000, random_state=42).reset_index(drop=True)\n",
        "df_rcp85_large = df_rcp85.sample(n=200000, random_state=42).reset_index(drop=True)\n"
      ],
      "metadata": {
        "id": "PLKcjWwoknwK"
      },
      "execution_count": 94,
      "outputs": []
    },
    {
      "cell_type": "code",
      "source": [
        "# Matplotlib - Medium\n",
        "df = df_rcp45_medium.copy()\n",
        "start = time.time()\n",
        "plt.figure(figsize=(10, 4))\n",
        "plt.plot(df[\"date\"], df[\"value\"], linestyle=\"none\", marker=\".\", markersize=1)\n",
        "plt.title(f\"Matplotlib Scatter – Medium (n = {len(df)})\")\n",
        "plt.xlabel(\"Date\")\n",
        "plt.ylabel(\"Temperature (°C)\")\n",
        "plt.tight_layout()\n",
        "plt.show()\n",
        "print(\"Matplotlib (Medium):\", round(time.time() - start, 5), \"seconds\")\n",
        "\n",
        "# Matplotlib - Large\n",
        "df = df_rcp85_large.copy()\n",
        "start = time.time()\n",
        "plt.figure(figsize=(10, 4))\n",
        "plt.plot(df[\"date\"], df[\"value\"], linestyle=\"none\", marker=\".\", markersize=0.5)\n",
        "plt.title(f\"Matplotlib Scatter – Large (n = {len(df)})\")\n",
        "plt.xlabel(\"Date\")\n",
        "plt.ylabel(\"Temperature (°C)\")\n",
        "plt.tight_layout()\n",
        "plt.show()\n",
        "print(\"Matplotlib (Large):\", round(time.time() - start, 5), \"seconds\")\n"
      ],
      "metadata": {
        "id": "ob7-XpfCofg0"
      },
      "execution_count": null,
      "outputs": []
    },
    {
      "cell_type": "code",
      "source": [
        "# Plotly - Medium\n",
        "df = df_rcp45_medium.copy()\n",
        "start = time.time()\n",
        "fig = px.scatter(df, x=\"date\", y=\"value\", title=f\"Plotly Scatter – Medium (n = {len(df)})\")\n",
        "fig.show()\n",
        "print(\"Plotly (Medium):\", round(time.time() - start, 5), \"seconds\")\n",
        "\n",
        "# Plotly - Large\n",
        "df = df_rcp85_large.copy()\n",
        "start = time.time()\n",
        "fig = px.scatter(df, x=\"date\", y=\"value\", title=f\"Plotly Scatter – Large (n = {len(df)})\")\n",
        "fig.show()\n",
        "print(\"Plotly (Large):\", round(time.time() - start, 5), \"seconds\")"
      ],
      "metadata": {
        "id": "d2qsPeJLoePM"
      },
      "execution_count": null,
      "outputs": []
    }
  ]
}